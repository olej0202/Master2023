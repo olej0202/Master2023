{
 "cells": [
  {
   "cell_type": "code",
   "execution_count": 11,
   "id": "87a8b4f7",
   "metadata": {},
   "outputs": [
    {
     "name": "stdout",
     "output_type": "stream",
     "text": [
      "Collecting bs4\n",
      "  Downloading bs4-0.0.1.tar.gz (1.1 kB)\n",
      "  Preparing metadata (setup.py): started\n",
      "  Preparing metadata (setup.py): finished with status 'done'\n",
      "Requirement already satisfied: beautifulsoup4 in c:\\users\\olej0\\onedrive\\dokumenter\\tft_model\\pytorch-forecasting\\myenv\\lib\\site-packages (from bs4) (4.12.2)\n",
      "Requirement already satisfied: soupsieve>1.2 in c:\\users\\olej0\\onedrive\\dokumenter\\tft_model\\pytorch-forecasting\\myenv\\lib\\site-packages (from beautifulsoup4->bs4) (2.5)\n",
      "Installing collected packages: bs4\n",
      "  Running setup.py install for bs4: started\n",
      "  Running setup.py install for bs4: finished with status 'done'\n",
      "Successfully installed bs4-0.0.1\n"
     ]
    },
    {
     "name": "stderr",
     "output_type": "stream",
     "text": [
      "  DEPRECATION: bs4 is being installed using the legacy 'setup.py install' method, because it does not have a 'pyproject.toml' and the 'wheel' package is not installed. pip 23.1 will enforce this behaviour change. A possible replacement is to enable the '--use-pep517' option. Discussion can be found at https://github.com/pypa/pip/issues/8559\n",
      "\n",
      "[notice] A new release of pip available: 22.3.1 -> 23.2.1\n",
      "[notice] To update, run: python.exe -m pip install --upgrade pip\n"
     ]
    }
   ],
   "source": [
    "!pip install bs4 "
   ]
  },
  {
   "cell_type": "code",
   "execution_count": 51,
   "id": "17864743",
   "metadata": {},
   "outputs": [
    {
     "name": "stdout",
     "output_type": "stream",
     "text": [
      "200\n"
     ]
    }
   ],
   "source": [
    "from newsapi import NewsApiClient\n",
    "import requests\n",
    "from bs4 import BeautifulSoup\n",
    "API_key=\"7f36d39bd53942039816a5cffae54b92\"\n",
    "\n",
    "# Define the URL of the historical news archive page\n",
    "url = \"https://finance.yahoo.com/topic/economic-news\"\n",
    "# Define the keyword to search for in headlines\n",
    "keyword = \"Natural Gas\"\n",
    "\n",
    "# Send an HTTP GET request to fetch the web page\n",
    "response = requests.get(url)\n",
    "print(response.status_code)\n",
    "\n",
    "# Check if the request was successful (status code 200)\n",
    "if response.status_code == 200:\n",
    "    # Parse the HTML content of the page using BeautifulSoup\n",
    "    soup = BeautifulSoup(response.text, 'html.parser')\n",
    "\n",
    "    # Find the HTML elements containing the headlines (adjust as needed)\n",
    "    headline_elements = soup.find_all(\"script\")\n",
    "   \n",
    "\n",
    "    # Extract and print the headlines that contain the keyword\n",
    "    for headline in headline_elements:\n",
    "        # Assuming the headlines are contained within <h2> tags\n",
    "        headline_text = headline.text.strip()\n",
    "       \n",
    "        if keyword.lower() in headline_text.lower():\n",
    "            print(\"New\")\n",
    "            print()\n",
    "            print()\n",
    "            print(headline_text)\n",
    "\n",
    "else:\n",
    "    print(f\"Failed to fetch the page. Status code: {response.status_code}\")"
   ]
  }
 ],
 "metadata": {
  "kernelspec": {
   "display_name": "myenv",
   "language": "python",
   "name": "myenv"
  },
  "language_info": {
   "codemirror_mode": {
    "name": "ipython",
    "version": 3
   },
   "file_extension": ".py",
   "mimetype": "text/x-python",
   "name": "python",
   "nbconvert_exporter": "python",
   "pygments_lexer": "ipython3",
   "version": "3.11.2"
  }
 },
 "nbformat": 4,
 "nbformat_minor": 5
}
