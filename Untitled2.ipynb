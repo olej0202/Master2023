{
 "cells": [
  {
   "cell_type": "code",
   "execution_count": 36,
   "id": "ad3bb0ba",
   "metadata": {},
   "outputs": [
    {
     "name": "stdout",
     "output_type": "stream",
     "text": [
      "Current working directory: C:\\Users\\Olej0\\OneDrive\\Dokumenter\\TFT_Model\\pytorch-forecasting\n"
     ]
    }
   ],
   "source": [
    "import os\n",
    "\n",
    "current_directory = os.getcwd()\n",
    "print(\"Current working directory:\", current_directory)\n",
    "!myenv\\Scripts\\activate\n",
    "\n"
   ]
  },
  {
   "cell_type": "code",
   "execution_count": 38,
   "id": "88af2adf",
   "metadata": {},
   "outputs": [
    {
     "name": "stdout",
     "output_type": "stream",
     "text": [
      "This notebook is not running in a virtual environment.\n"
     ]
    }
   ],
   "source": [
    "import sys\n",
    "!conda activate myenv\n",
    "is_in_virtual_env = hasattr(sys, 'real_prefix') or (hasattr(sys, 'base_prefix') and sys.base_prefix != sys.prefix)\n",
    "!myenv\\Scripts\\activate\n",
    "if is_in_virtual_env:\n",
    "    print(\"This notebook is running in a virtual environment.\")\n",
    "else:\n",
    "    print(\"This notebook is not running in a virtual environment.\")"
   ]
  },
  {
   "cell_type": "code",
   "execution_count": 39,
   "id": "e7d61681",
   "metadata": {},
   "outputs": [
    {
     "ename": "ImportError",
     "evalue": "cannot import name 'Prediction' from 'pytorch_forecasting.models.base_model' (C:\\Users\\Olej0\\anaconda3\\Lib\\site-packages\\pytorch_forecasting\\models\\base_model.py)",
     "output_type": "error",
     "traceback": [
      "\u001b[1;31m---------------------------------------------------------------------------\u001b[0m",
      "\u001b[1;31mImportError\u001b[0m                               Traceback (most recent call last)",
      "Cell \u001b[1;32mIn[39], line 18\u001b[0m\n\u001b[0;32m     15\u001b[0m \u001b[38;5;28;01mimport\u001b[39;00m \u001b[38;5;21;01mtorch\u001b[39;00m\n\u001b[0;32m     17\u001b[0m \u001b[38;5;28;01mimport\u001b[39;00m \u001b[38;5;21;01mlightning\u001b[39;00m\u001b[38;5;21;01m.\u001b[39;00m\u001b[38;5;21;01mpytorch\u001b[39;00m \u001b[38;5;28;01mas\u001b[39;00m \u001b[38;5;21;01mpl\u001b[39;00m\n\u001b[1;32m---> 18\u001b[0m \u001b[38;5;28;01mfrom\u001b[39;00m \u001b[38;5;21;01mpytorch_forecasting\u001b[39;00m \u001b[38;5;28;01mimport\u001b[39;00m  TemporalFusionTransformer, TimeSeriesDataSet\n\u001b[0;32m     19\u001b[0m \u001b[38;5;28;01mfrom\u001b[39;00m \u001b[38;5;21;01mpytorch_forecasting\u001b[39;00m\u001b[38;5;21;01m.\u001b[39;00m\u001b[38;5;21;01mdata\u001b[39;00m \u001b[38;5;28;01mimport\u001b[39;00m GroupNormalizer\n\u001b[0;32m     20\u001b[0m \u001b[38;5;28;01mfrom\u001b[39;00m \u001b[38;5;21;01mpytorch_forecasting\u001b[39;00m\u001b[38;5;21;01m.\u001b[39;00m\u001b[38;5;21;01mmetrics\u001b[39;00m \u001b[38;5;28;01mimport\u001b[39;00m MAE, SMAPE, PoissonLoss, QuantileLoss\n",
      "File \u001b[1;32m~\\OneDrive\\Dokumenter\\TFT_Model\\pytorch-forecasting\\pytorch_forecasting\\__init__.py:31\u001b[0m\n\u001b[0;32m      4\u001b[0m \u001b[38;5;28;01mfrom\u001b[39;00m \u001b[38;5;21;01mpytorch_forecasting\u001b[39;00m\u001b[38;5;21;01m.\u001b[39;00m\u001b[38;5;21;01mdata\u001b[39;00m \u001b[38;5;28;01mimport\u001b[39;00m (\n\u001b[0;32m      5\u001b[0m     EncoderNormalizer,\n\u001b[0;32m      6\u001b[0m     GroupNormalizer,\n\u001b[1;32m   (...)\u001b[0m\n\u001b[0;32m      9\u001b[0m     TimeSeriesDataSet,\n\u001b[0;32m     10\u001b[0m )\n\u001b[0;32m     11\u001b[0m \u001b[38;5;28;01mfrom\u001b[39;00m \u001b[38;5;21;01mpytorch_forecasting\u001b[39;00m\u001b[38;5;21;01m.\u001b[39;00m\u001b[38;5;21;01mmetrics\u001b[39;00m \u001b[38;5;28;01mimport\u001b[39;00m (\n\u001b[0;32m     12\u001b[0m     MAE,\n\u001b[0;32m     13\u001b[0m     MAPE,\n\u001b[1;32m   (...)\u001b[0m\n\u001b[0;32m     29\u001b[0m     QuantileLoss,\n\u001b[0;32m     30\u001b[0m )\n\u001b[1;32m---> 31\u001b[0m \u001b[38;5;28;01mfrom\u001b[39;00m \u001b[38;5;21;01mpytorch_forecasting\u001b[39;00m\u001b[38;5;21;01m.\u001b[39;00m\u001b[38;5;21;01mmodels\u001b[39;00m \u001b[38;5;28;01mimport\u001b[39;00m (\n\u001b[0;32m     32\u001b[0m     GRU,\n\u001b[0;32m     33\u001b[0m     LSTM,\n\u001b[0;32m     34\u001b[0m     AutoRegressiveBaseModel,\n\u001b[0;32m     35\u001b[0m     AutoRegressiveBaseModelWithCovariates,\n\u001b[0;32m     36\u001b[0m     Baseline,\n\u001b[0;32m     37\u001b[0m     BaseModel,\n\u001b[0;32m     38\u001b[0m     BaseModelWithCovariates,\n\u001b[0;32m     39\u001b[0m     DecoderMLP,\n\u001b[0;32m     40\u001b[0m     DeepAR,\n\u001b[0;32m     41\u001b[0m     MultiEmbedding,\n\u001b[0;32m     42\u001b[0m     NBeats,\n\u001b[0;32m     43\u001b[0m     NHiTS,\n\u001b[0;32m     44\u001b[0m     RecurrentNetwork,\n\u001b[0;32m     45\u001b[0m     TemporalFusionTransformer,\n\u001b[0;32m     46\u001b[0m     get_rnn,\n\u001b[0;32m     47\u001b[0m )\n\u001b[0;32m     48\u001b[0m \u001b[38;5;28;01mfrom\u001b[39;00m \u001b[38;5;21;01mpytorch_forecasting\u001b[39;00m\u001b[38;5;21;01m.\u001b[39;00m\u001b[38;5;21;01mutils\u001b[39;00m \u001b[38;5;28;01mimport\u001b[39;00m (\n\u001b[0;32m     49\u001b[0m     apply_to_list,\n\u001b[0;32m     50\u001b[0m     autocorrelation,\n\u001b[1;32m   (...)\u001b[0m\n\u001b[0;32m     59\u001b[0m     unpack_sequence,\n\u001b[0;32m     60\u001b[0m )\n\u001b[0;32m     62\u001b[0m __all__ \u001b[38;5;241m=\u001b[39m [\n\u001b[0;32m     63\u001b[0m     \u001b[38;5;124m\"\u001b[39m\u001b[38;5;124mTimeSeriesDataSet\u001b[39m\u001b[38;5;124m\"\u001b[39m,\n\u001b[0;32m     64\u001b[0m     \u001b[38;5;124m\"\u001b[39m\u001b[38;5;124mGroupNormalizer\u001b[39m\u001b[38;5;124m\"\u001b[39m,\n\u001b[1;32m   (...)\u001b[0m\n\u001b[0;32m    111\u001b[0m     \u001b[38;5;124m\"\u001b[39m\u001b[38;5;124munpack_sequence\u001b[39m\u001b[38;5;124m\"\u001b[39m,\n\u001b[0;32m    112\u001b[0m ]\n",
      "File \u001b[1;32m~\\OneDrive\\Dokumenter\\TFT_Model\\pytorch-forecasting\\pytorch_forecasting\\models\\__init__.py:11\u001b[0m\n\u001b[0;32m      4\u001b[0m \u001b[38;5;28;01mfrom\u001b[39;00m \u001b[38;5;21;01mpytorch_forecasting\u001b[39;00m\u001b[38;5;21;01m.\u001b[39;00m\u001b[38;5;21;01mmodels\u001b[39;00m\u001b[38;5;21;01m.\u001b[39;00m\u001b[38;5;21;01mbase_model\u001b[39;00m \u001b[38;5;28;01mimport\u001b[39;00m (\n\u001b[0;32m      5\u001b[0m     AutoRegressiveBaseModel,\n\u001b[0;32m      6\u001b[0m     AutoRegressiveBaseModelWithCovariates,\n\u001b[0;32m      7\u001b[0m     BaseModel,\n\u001b[0;32m      8\u001b[0m     BaseModelWithCovariates,\n\u001b[0;32m      9\u001b[0m )\n\u001b[0;32m     10\u001b[0m \u001b[38;5;28;01mfrom\u001b[39;00m \u001b[38;5;21;01mpytorch_forecasting\u001b[39;00m\u001b[38;5;21;01m.\u001b[39;00m\u001b[38;5;21;01mmodels\u001b[39;00m\u001b[38;5;21;01m.\u001b[39;00m\u001b[38;5;21;01mbaseline\u001b[39;00m \u001b[38;5;28;01mimport\u001b[39;00m Baseline\n\u001b[1;32m---> 11\u001b[0m \u001b[38;5;28;01mfrom\u001b[39;00m \u001b[38;5;21;01mpytorch_forecasting\u001b[39;00m\u001b[38;5;21;01m.\u001b[39;00m\u001b[38;5;21;01mmodels\u001b[39;00m\u001b[38;5;21;01m.\u001b[39;00m\u001b[38;5;21;01mdeepar\u001b[39;00m \u001b[38;5;28;01mimport\u001b[39;00m DeepAR\n\u001b[0;32m     12\u001b[0m \u001b[38;5;28;01mfrom\u001b[39;00m \u001b[38;5;21;01mpytorch_forecasting\u001b[39;00m\u001b[38;5;21;01m.\u001b[39;00m\u001b[38;5;21;01mmodels\u001b[39;00m\u001b[38;5;21;01m.\u001b[39;00m\u001b[38;5;21;01mmlp\u001b[39;00m \u001b[38;5;28;01mimport\u001b[39;00m DecoderMLP\n\u001b[0;32m     13\u001b[0m \u001b[38;5;28;01mfrom\u001b[39;00m \u001b[38;5;21;01mpytorch_forecasting\u001b[39;00m\u001b[38;5;21;01m.\u001b[39;00m\u001b[38;5;21;01mmodels\u001b[39;00m\u001b[38;5;21;01m.\u001b[39;00m\u001b[38;5;21;01mnbeats\u001b[39;00m \u001b[38;5;28;01mimport\u001b[39;00m NBeats\n",
      "File \u001b[1;32m~\\OneDrive\\Dokumenter\\TFT_Model\\pytorch-forecasting\\pytorch_forecasting\\models\\deepar\\__init__.py:29\u001b[0m\n\u001b[0;32m     16\u001b[0m \u001b[38;5;28;01mfrom\u001b[39;00m \u001b[38;5;21;01mpytorch_forecasting\u001b[39;00m\u001b[38;5;21;01m.\u001b[39;00m\u001b[38;5;21;01mdata\u001b[39;00m\u001b[38;5;21;01m.\u001b[39;00m\u001b[38;5;21;01mtimeseries\u001b[39;00m \u001b[38;5;28;01mimport\u001b[39;00m TimeSeriesDataSet\n\u001b[0;32m     17\u001b[0m \u001b[38;5;28;01mfrom\u001b[39;00m \u001b[38;5;21;01mpytorch_forecasting\u001b[39;00m\u001b[38;5;21;01m.\u001b[39;00m\u001b[38;5;21;01mmetrics\u001b[39;00m \u001b[38;5;28;01mimport\u001b[39;00m (\n\u001b[0;32m     18\u001b[0m     MAE,\n\u001b[0;32m     19\u001b[0m     MAPE,\n\u001b[1;32m   (...)\u001b[0m\n\u001b[0;32m     27\u001b[0m     NormalDistributionLoss,\n\u001b[0;32m     28\u001b[0m )\n\u001b[1;32m---> 29\u001b[0m \u001b[38;5;28;01mfrom\u001b[39;00m \u001b[38;5;21;01mpytorch_forecasting\u001b[39;00m\u001b[38;5;21;01m.\u001b[39;00m\u001b[38;5;21;01mmodels\u001b[39;00m\u001b[38;5;21;01m.\u001b[39;00m\u001b[38;5;21;01mbase_model\u001b[39;00m \u001b[38;5;28;01mimport\u001b[39;00m AutoRegressiveBaseModelWithCovariates, Prediction\n\u001b[0;32m     30\u001b[0m \u001b[38;5;28;01mfrom\u001b[39;00m \u001b[38;5;21;01mpytorch_forecasting\u001b[39;00m\u001b[38;5;21;01m.\u001b[39;00m\u001b[38;5;21;01mmodels\u001b[39;00m\u001b[38;5;21;01m.\u001b[39;00m\u001b[38;5;21;01mnn\u001b[39;00m \u001b[38;5;28;01mimport\u001b[39;00m HiddenState, MultiEmbedding, get_rnn\n\u001b[0;32m     31\u001b[0m \u001b[38;5;28;01mfrom\u001b[39;00m \u001b[38;5;21;01mpytorch_forecasting\u001b[39;00m\u001b[38;5;21;01m.\u001b[39;00m\u001b[38;5;21;01mutils\u001b[39;00m \u001b[38;5;28;01mimport\u001b[39;00m apply_to_list, to_list\n",
      "\u001b[1;31mImportError\u001b[0m: cannot import name 'Prediction' from 'pytorch_forecasting.models.base_model' (C:\\Users\\Olej0\\anaconda3\\Lib\\site-packages\\pytorch_forecasting\\models\\base_model.py)"
     ]
    }
   ],
   "source": [
    "\n",
    "\n",
    "import sys\n",
    "import os\n",
    "\"\"\"print(sys.path)\n",
    "\n",
    "sys.executable =\"C:\\\\Users\\\\Olej0\\\\OneDrive\\\\Dokumenter\\\\TFT_Model\\\\pytorch-forecasting\\\\myenv\"\n",
    "\n",
    "\n",
    "# Check if the directory exists\n",
    "if os.path.exists(package_path):\n",
    "    # Add the package path to sys.path\n",
    "    sys.path.append(package_path)\n",
    "\"\"\"\n",
    "   \n",
    "import pandas as pd\n",
    "import torch\n",
    "\n",
    "import lightning.pytorch as pl\n",
    "from pytorch_forecasting import  TemporalFusionTransformer, TimeSeriesDataSet\n",
    "from pytorch_forecasting.data import GroupNormalizer\n",
    "from pytorch_forecasting.metrics import MAE, SMAPE, PoissonLoss, QuantileLoss\n",
    "from pytorch_forecasting.models.temporal_fusion_transformer.tuning import optimize_hyperparameters\n",
    "\n",
    "\n",
    "import numpy as np\n",
    "\n",
    "\n"
   ]
  },
  {
   "cell_type": "code",
   "execution_count": null,
   "id": "22cdf1e3",
   "metadata": {},
   "outputs": [],
   "source": []
  }
 ],
 "metadata": {
  "kernelspec": {
   "display_name": "Python 3 (ipykernel)",
   "language": "python",
   "name": "python3"
  },
  "language_info": {
   "codemirror_mode": {
    "name": "ipython",
    "version": 3
   },
   "file_extension": ".py",
   "mimetype": "text/x-python",
   "name": "python",
   "nbconvert_exporter": "python",
   "pygments_lexer": "ipython3",
   "version": "3.11.4"
  }
 },
 "nbformat": 4,
 "nbformat_minor": 5
}
